{
 "cells": [
  {
   "cell_type": "code",
   "execution_count": 1,
   "id": "f7a4b98c",
   "metadata": {
    "_cell_guid": "b1076dfc-b9ad-4769-8c92-a6c4dae69d19",
    "_uuid": "8f2839f25d086af736a60e9eeb907d3b93b6e0e5",
    "execution": {
     "iopub.execute_input": "2022-09-16T16:45:25.067744Z",
     "iopub.status.busy": "2022-09-16T16:45:25.067178Z",
     "iopub.status.idle": "2022-09-16T16:45:25.089694Z",
     "shell.execute_reply": "2022-09-16T16:45:25.088429Z"
    },
    "papermill": {
     "duration": 0.038614,
     "end_time": "2022-09-16T16:45:25.093874",
     "exception": false,
     "start_time": "2022-09-16T16:45:25.055260",
     "status": "completed"
    },
    "tags": []
   },
   "outputs": [
    {
     "name": "stdout",
     "output_type": "stream",
     "text": [
      "/kaggle/input/red-wine-quality-cortez-et-al-2009/winequality-red.csv\n"
     ]
    }
   ],
   "source": [
    "# This Python 3 environment comes with many helpful analytics libraries installed\n",
    "# It is defined by the kaggle/python Docker image: https://github.com/kaggle/docker-python\n",
    "# For example, here's several helpful packages to load\n",
    "\n",
    "import numpy as np # linear algebra\n",
    "import pandas as pd # data processing, CSV file I/O (e.g. pd.read_csv)\n",
    "\n",
    "# Input data files are available in the read-only \"../input/\" directory\n",
    "# For example, running this (by clicking run or pressing Shift+Enter) will list all files under the input directory\n",
    "\n",
    "import os\n",
    "for dirname, _, filenames in os.walk('/kaggle/input'):\n",
    "    for filename in filenames:\n",
    "        print(os.path.join(dirname, filename))\n",
    "\n",
    "# You can write up to 20GB to the current directory (/kaggle/working/) that gets preserved as output when you create a version using \"Save & Run All\" \n",
    "# You can also write temporary files to /kaggle/temp/, but they won't be saved outside of the current session"
   ]
  },
  {
   "cell_type": "code",
   "execution_count": 2,
   "id": "c9617826",
   "metadata": {
    "execution": {
     "iopub.execute_input": "2022-09-16T16:45:25.116399Z",
     "iopub.status.busy": "2022-09-16T16:45:25.115421Z",
     "iopub.status.idle": "2022-09-16T16:45:27.940502Z",
     "shell.execute_reply": "2022-09-16T16:45:27.939421Z"
    },
    "papermill": {
     "duration": 2.837156,
     "end_time": "2022-09-16T16:45:27.943841",
     "exception": false,
     "start_time": "2022-09-16T16:45:25.106685",
     "status": "completed"
    },
    "tags": []
   },
   "outputs": [],
   "source": [
    "from sklearn.model_selection import train_test_split, GridSearchCV\n",
    "from sklearn.metrics import accuracy_score, confusion_matrix, roc_auc_score, roc_curve\n",
    "from pandas_profiling import ProfileReport\n",
    "from sklearn.neighbors import KNeighborsClassifier\n",
    "from sklearn.preprocessing import StandardScaler"
   ]
  },
  {
   "cell_type": "code",
   "execution_count": 3,
   "id": "6aa2c2cc",
   "metadata": {
    "execution": {
     "iopub.execute_input": "2022-09-16T16:45:27.960547Z",
     "iopub.status.busy": "2022-09-16T16:45:27.960100Z",
     "iopub.status.idle": "2022-09-16T16:45:27.980032Z",
     "shell.execute_reply": "2022-09-16T16:45:27.978768Z"
    },
    "papermill": {
     "duration": 0.031613,
     "end_time": "2022-09-16T16:45:27.982890",
     "exception": false,
     "start_time": "2022-09-16T16:45:27.951277",
     "status": "completed"
    },
    "tags": []
   },
   "outputs": [],
   "source": [
    "df = pd.read_csv('../input/red-wine-quality-cortez-et-al-2009/winequality-red.csv')"
   ]
  },
  {
   "cell_type": "code",
   "execution_count": 4,
   "id": "e11dab35",
   "metadata": {
    "execution": {
     "iopub.execute_input": "2022-09-16T16:45:27.999952Z",
     "iopub.status.busy": "2022-09-16T16:45:27.999185Z",
     "iopub.status.idle": "2022-09-16T16:45:28.029478Z",
     "shell.execute_reply": "2022-09-16T16:45:28.028230Z"
    },
    "papermill": {
     "duration": 0.041869,
     "end_time": "2022-09-16T16:45:28.032048",
     "exception": false,
     "start_time": "2022-09-16T16:45:27.990179",
     "status": "completed"
    },
    "tags": []
   },
   "outputs": [
    {
     "data": {
      "text/html": [
       "<div>\n",
       "<style scoped>\n",
       "    .dataframe tbody tr th:only-of-type {\n",
       "        vertical-align: middle;\n",
       "    }\n",
       "\n",
       "    .dataframe tbody tr th {\n",
       "        vertical-align: top;\n",
       "    }\n",
       "\n",
       "    .dataframe thead th {\n",
       "        text-align: right;\n",
       "    }\n",
       "</style>\n",
       "<table border=\"1\" class=\"dataframe\">\n",
       "  <thead>\n",
       "    <tr style=\"text-align: right;\">\n",
       "      <th></th>\n",
       "      <th>fixed acidity</th>\n",
       "      <th>volatile acidity</th>\n",
       "      <th>citric acid</th>\n",
       "      <th>residual sugar</th>\n",
       "      <th>chlorides</th>\n",
       "      <th>free sulfur dioxide</th>\n",
       "      <th>total sulfur dioxide</th>\n",
       "      <th>density</th>\n",
       "      <th>pH</th>\n",
       "      <th>sulphates</th>\n",
       "      <th>alcohol</th>\n",
       "      <th>quality</th>\n",
       "    </tr>\n",
       "  </thead>\n",
       "  <tbody>\n",
       "    <tr>\n",
       "      <th>0</th>\n",
       "      <td>7.4</td>\n",
       "      <td>0.70</td>\n",
       "      <td>0.00</td>\n",
       "      <td>1.9</td>\n",
       "      <td>0.076</td>\n",
       "      <td>11.0</td>\n",
       "      <td>34.0</td>\n",
       "      <td>0.9978</td>\n",
       "      <td>3.51</td>\n",
       "      <td>0.56</td>\n",
       "      <td>9.4</td>\n",
       "      <td>5</td>\n",
       "    </tr>\n",
       "    <tr>\n",
       "      <th>1</th>\n",
       "      <td>7.8</td>\n",
       "      <td>0.88</td>\n",
       "      <td>0.00</td>\n",
       "      <td>2.6</td>\n",
       "      <td>0.098</td>\n",
       "      <td>25.0</td>\n",
       "      <td>67.0</td>\n",
       "      <td>0.9968</td>\n",
       "      <td>3.20</td>\n",
       "      <td>0.68</td>\n",
       "      <td>9.8</td>\n",
       "      <td>5</td>\n",
       "    </tr>\n",
       "    <tr>\n",
       "      <th>2</th>\n",
       "      <td>7.8</td>\n",
       "      <td>0.76</td>\n",
       "      <td>0.04</td>\n",
       "      <td>2.3</td>\n",
       "      <td>0.092</td>\n",
       "      <td>15.0</td>\n",
       "      <td>54.0</td>\n",
       "      <td>0.9970</td>\n",
       "      <td>3.26</td>\n",
       "      <td>0.65</td>\n",
       "      <td>9.8</td>\n",
       "      <td>5</td>\n",
       "    </tr>\n",
       "    <tr>\n",
       "      <th>3</th>\n",
       "      <td>11.2</td>\n",
       "      <td>0.28</td>\n",
       "      <td>0.56</td>\n",
       "      <td>1.9</td>\n",
       "      <td>0.075</td>\n",
       "      <td>17.0</td>\n",
       "      <td>60.0</td>\n",
       "      <td>0.9980</td>\n",
       "      <td>3.16</td>\n",
       "      <td>0.58</td>\n",
       "      <td>9.8</td>\n",
       "      <td>6</td>\n",
       "    </tr>\n",
       "    <tr>\n",
       "      <th>4</th>\n",
       "      <td>7.4</td>\n",
       "      <td>0.70</td>\n",
       "      <td>0.00</td>\n",
       "      <td>1.9</td>\n",
       "      <td>0.076</td>\n",
       "      <td>11.0</td>\n",
       "      <td>34.0</td>\n",
       "      <td>0.9978</td>\n",
       "      <td>3.51</td>\n",
       "      <td>0.56</td>\n",
       "      <td>9.4</td>\n",
       "      <td>5</td>\n",
       "    </tr>\n",
       "  </tbody>\n",
       "</table>\n",
       "</div>"
      ],
      "text/plain": [
       "   fixed acidity  volatile acidity  citric acid  residual sugar  chlorides  \\\n",
       "0            7.4              0.70         0.00             1.9      0.076   \n",
       "1            7.8              0.88         0.00             2.6      0.098   \n",
       "2            7.8              0.76         0.04             2.3      0.092   \n",
       "3           11.2              0.28         0.56             1.9      0.075   \n",
       "4            7.4              0.70         0.00             1.9      0.076   \n",
       "\n",
       "   free sulfur dioxide  total sulfur dioxide  density    pH  sulphates  \\\n",
       "0                 11.0                  34.0   0.9978  3.51       0.56   \n",
       "1                 25.0                  67.0   0.9968  3.20       0.68   \n",
       "2                 15.0                  54.0   0.9970  3.26       0.65   \n",
       "3                 17.0                  60.0   0.9980  3.16       0.58   \n",
       "4                 11.0                  34.0   0.9978  3.51       0.56   \n",
       "\n",
       "   alcohol  quality  \n",
       "0      9.4        5  \n",
       "1      9.8        5  \n",
       "2      9.8        5  \n",
       "3      9.8        6  \n",
       "4      9.4        5  "
      ]
     },
     "execution_count": 4,
     "metadata": {},
     "output_type": "execute_result"
    }
   ],
   "source": [
    "df.head()"
   ]
  },
  {
   "cell_type": "code",
   "execution_count": 5,
   "id": "860becfa",
   "metadata": {
    "execution": {
     "iopub.execute_input": "2022-09-16T16:45:28.049454Z",
     "iopub.status.busy": "2022-09-16T16:45:28.048589Z",
     "iopub.status.idle": "2022-09-16T16:45:28.056014Z",
     "shell.execute_reply": "2022-09-16T16:45:28.055031Z"
    },
    "papermill": {
     "duration": 0.018814,
     "end_time": "2022-09-16T16:45:28.058390",
     "exception": false,
     "start_time": "2022-09-16T16:45:28.039576",
     "status": "completed"
    },
    "tags": []
   },
   "outputs": [
    {
     "data": {
      "text/plain": [
       "(1599, 12)"
      ]
     },
     "execution_count": 5,
     "metadata": {},
     "output_type": "execute_result"
    }
   ],
   "source": [
    "df.shape"
   ]
  },
  {
   "cell_type": "code",
   "execution_count": 6,
   "id": "9f056052",
   "metadata": {
    "execution": {
     "iopub.execute_input": "2022-09-16T16:45:28.075852Z",
     "iopub.status.busy": "2022-09-16T16:45:28.075029Z",
     "iopub.status.idle": "2022-09-16T16:45:28.086028Z",
     "shell.execute_reply": "2022-09-16T16:45:28.085084Z"
    },
    "papermill": {
     "duration": 0.022662,
     "end_time": "2022-09-16T16:45:28.088650",
     "exception": false,
     "start_time": "2022-09-16T16:45:28.065988",
     "status": "completed"
    },
    "tags": []
   },
   "outputs": [],
   "source": [
    "x = df.drop(columns='quality')"
   ]
  },
  {
   "cell_type": "code",
   "execution_count": 7,
   "id": "2bc5b3c7",
   "metadata": {
    "execution": {
     "iopub.execute_input": "2022-09-16T16:45:28.106668Z",
     "iopub.status.busy": "2022-09-16T16:45:28.105821Z",
     "iopub.status.idle": "2022-09-16T16:45:28.113036Z",
     "shell.execute_reply": "2022-09-16T16:45:28.112063Z"
    },
    "papermill": {
     "duration": 0.019281,
     "end_time": "2022-09-16T16:45:28.115527",
     "exception": false,
     "start_time": "2022-09-16T16:45:28.096246",
     "status": "completed"
    },
    "tags": []
   },
   "outputs": [],
   "source": [
    "y = df.quality"
   ]
  },
  {
   "cell_type": "code",
   "execution_count": 8,
   "id": "6eb04776",
   "metadata": {
    "execution": {
     "iopub.execute_input": "2022-09-16T16:45:28.133735Z",
     "iopub.status.busy": "2022-09-16T16:45:28.133264Z",
     "iopub.status.idle": "2022-09-16T16:45:28.140979Z",
     "shell.execute_reply": "2022-09-16T16:45:28.140016Z"
    },
    "papermill": {
     "duration": 0.019021,
     "end_time": "2022-09-16T16:45:28.143471",
     "exception": false,
     "start_time": "2022-09-16T16:45:28.124450",
     "status": "completed"
    },
    "tags": []
   },
   "outputs": [],
   "source": [
    "x_train, x_test, y_train, y_test = train_test_split(x, y, random_state=20)"
   ]
  },
  {
   "cell_type": "code",
   "execution_count": 9,
   "id": "2cd5a679",
   "metadata": {
    "execution": {
     "iopub.execute_input": "2022-09-16T16:45:28.160785Z",
     "iopub.status.busy": "2022-09-16T16:45:28.160309Z",
     "iopub.status.idle": "2022-09-16T16:45:28.165326Z",
     "shell.execute_reply": "2022-09-16T16:45:28.164173Z"
    },
    "papermill": {
     "duration": 0.017028,
     "end_time": "2022-09-16T16:45:28.168221",
     "exception": false,
     "start_time": "2022-09-16T16:45:28.151193",
     "status": "completed"
    },
    "tags": []
   },
   "outputs": [],
   "source": [
    "knn = KNeighborsClassifier()"
   ]
  },
  {
   "cell_type": "code",
   "execution_count": 10,
   "id": "fe510979",
   "metadata": {
    "execution": {
     "iopub.execute_input": "2022-09-16T16:45:28.185949Z",
     "iopub.status.busy": "2022-09-16T16:45:28.185112Z",
     "iopub.status.idle": "2022-09-16T16:45:28.198194Z",
     "shell.execute_reply": "2022-09-16T16:45:28.196965Z"
    },
    "papermill": {
     "duration": 0.024791,
     "end_time": "2022-09-16T16:45:28.200619",
     "exception": false,
     "start_time": "2022-09-16T16:45:28.175828",
     "status": "completed"
    },
    "tags": []
   },
   "outputs": [
    {
     "data": {
      "text/plain": [
       "KNeighborsClassifier()"
      ]
     },
     "execution_count": 10,
     "metadata": {},
     "output_type": "execute_result"
    }
   ],
   "source": [
    "knn.fit(x_train, y_train)"
   ]
  },
  {
   "cell_type": "code",
   "execution_count": 11,
   "id": "fca51a35",
   "metadata": {
    "execution": {
     "iopub.execute_input": "2022-09-16T16:45:28.219251Z",
     "iopub.status.busy": "2022-09-16T16:45:28.218411Z",
     "iopub.status.idle": "2022-09-16T16:45:28.242159Z",
     "shell.execute_reply": "2022-09-16T16:45:28.240700Z"
    },
    "papermill": {
     "duration": 0.036542,
     "end_time": "2022-09-16T16:45:28.245384",
     "exception": false,
     "start_time": "2022-09-16T16:45:28.208842",
     "status": "completed"
    },
    "tags": []
   },
   "outputs": [
    {
     "data": {
      "text/plain": [
       "0.5175"
      ]
     },
     "execution_count": 11,
     "metadata": {},
     "output_type": "execute_result"
    }
   ],
   "source": [
    "knn.score(x_test, y_test)"
   ]
  },
  {
   "cell_type": "code",
   "execution_count": 12,
   "id": "55b6f5c1",
   "metadata": {
    "execution": {
     "iopub.execute_input": "2022-09-16T16:45:28.264571Z",
     "iopub.status.busy": "2022-09-16T16:45:28.263775Z",
     "iopub.status.idle": "2022-09-16T16:45:28.269657Z",
     "shell.execute_reply": "2022-09-16T16:45:28.268692Z"
    },
    "papermill": {
     "duration": 0.018282,
     "end_time": "2022-09-16T16:45:28.272244",
     "exception": false,
     "start_time": "2022-09-16T16:45:28.253962",
     "status": "completed"
    },
    "tags": []
   },
   "outputs": [],
   "source": [
    "param = {\n",
    "    'n_neighbors':[3,5,7,9,12,13,15,17,21],\n",
    "    'algorithm':['auto', 'ball_tree', 'kd_tree', 'brute'],\n",
    "    'leaf_size':[10,15,20,25,30,35,45,50],\n",
    "    'p':[1,2],\n",
    "    'weights':['uniform', 'distance']\n",
    "}"
   ]
  },
  {
   "cell_type": "code",
   "execution_count": 13,
   "id": "00eeacc0",
   "metadata": {
    "execution": {
     "iopub.execute_input": "2022-09-16T16:45:28.290351Z",
     "iopub.status.busy": "2022-09-16T16:45:28.289532Z",
     "iopub.status.idle": "2022-09-16T16:45:28.294188Z",
     "shell.execute_reply": "2022-09-16T16:45:28.293347Z"
    },
    "papermill": {
     "duration": 0.016312,
     "end_time": "2022-09-16T16:45:28.296525",
     "exception": false,
     "start_time": "2022-09-16T16:45:28.280213",
     "status": "completed"
    },
    "tags": []
   },
   "outputs": [],
   "source": [
    "grid_cv = GridSearchCV(knn, param_grid=param)"
   ]
  },
  {
   "cell_type": "code",
   "execution_count": 14,
   "id": "44e86197",
   "metadata": {
    "execution": {
     "iopub.execute_input": "2022-09-16T16:45:28.314544Z",
     "iopub.status.busy": "2022-09-16T16:45:28.314059Z",
     "iopub.status.idle": "2022-09-16T16:46:44.359092Z",
     "shell.execute_reply": "2022-09-16T16:46:44.357881Z"
    },
    "papermill": {
     "duration": 76.068847,
     "end_time": "2022-09-16T16:46:44.373635",
     "exception": false,
     "start_time": "2022-09-16T16:45:28.304788",
     "status": "completed"
    },
    "tags": []
   },
   "outputs": [
    {
     "data": {
      "text/plain": [
       "GridSearchCV(estimator=KNeighborsClassifier(),\n",
       "             param_grid={'algorithm': ['auto', 'ball_tree', 'kd_tree', 'brute'],\n",
       "                         'leaf_size': [10, 15, 20, 25, 30, 35, 45, 50],\n",
       "                         'n_neighbors': [3, 5, 7, 9, 12, 13, 15, 17, 21],\n",
       "                         'p': [1, 2], 'weights': ['uniform', 'distance']})"
      ]
     },
     "execution_count": 14,
     "metadata": {},
     "output_type": "execute_result"
    }
   ],
   "source": [
    "grid_cv.fit(x_train, y_train)"
   ]
  },
  {
   "cell_type": "code",
   "execution_count": 15,
   "id": "7f622f21",
   "metadata": {
    "execution": {
     "iopub.execute_input": "2022-09-16T16:46:44.400501Z",
     "iopub.status.busy": "2022-09-16T16:46:44.399915Z",
     "iopub.status.idle": "2022-09-16T16:46:44.410950Z",
     "shell.execute_reply": "2022-09-16T16:46:44.410112Z"
    },
    "papermill": {
     "duration": 0.027431,
     "end_time": "2022-09-16T16:46:44.413379",
     "exception": false,
     "start_time": "2022-09-16T16:46:44.385948",
     "status": "completed"
    },
    "tags": []
   },
   "outputs": [
    {
     "data": {
      "text/plain": [
       "{'algorithm': 'auto',\n",
       " 'leaf_size': 10,\n",
       " 'n_neighbors': 21,\n",
       " 'p': 1,\n",
       " 'weights': 'distance'}"
      ]
     },
     "execution_count": 15,
     "metadata": {},
     "output_type": "execute_result"
    }
   ],
   "source": [
    "grid_cv.best_params_"
   ]
  },
  {
   "cell_type": "code",
   "execution_count": 16,
   "id": "206e0c20",
   "metadata": {
    "execution": {
     "iopub.execute_input": "2022-09-16T16:46:44.430987Z",
     "iopub.status.busy": "2022-09-16T16:46:44.430589Z",
     "iopub.status.idle": "2022-09-16T16:46:44.435904Z",
     "shell.execute_reply": "2022-09-16T16:46:44.434682Z"
    },
    "papermill": {
     "duration": 0.016794,
     "end_time": "2022-09-16T16:46:44.438188",
     "exception": false,
     "start_time": "2022-09-16T16:46:44.421394",
     "status": "completed"
    },
    "tags": []
   },
   "outputs": [],
   "source": [
    "knn1 = KNeighborsClassifier(n_neighbors=21, p=1, algorithm='auto', weights='distance', leaf_size=10)"
   ]
  },
  {
   "cell_type": "code",
   "execution_count": 17,
   "id": "f16cfa18",
   "metadata": {
    "execution": {
     "iopub.execute_input": "2022-09-16T16:46:44.456727Z",
     "iopub.status.busy": "2022-09-16T16:46:44.455450Z",
     "iopub.status.idle": "2022-09-16T16:46:44.467271Z",
     "shell.execute_reply": "2022-09-16T16:46:44.466200Z"
    },
    "papermill": {
     "duration": 0.023302,
     "end_time": "2022-09-16T16:46:44.469582",
     "exception": false,
     "start_time": "2022-09-16T16:46:44.446280",
     "status": "completed"
    },
    "tags": []
   },
   "outputs": [
    {
     "data": {
      "text/plain": [
       "KNeighborsClassifier(leaf_size=10, n_neighbors=21, p=1, weights='distance')"
      ]
     },
     "execution_count": 17,
     "metadata": {},
     "output_type": "execute_result"
    }
   ],
   "source": [
    "knn1.fit(x_train, y_train)"
   ]
  },
  {
   "cell_type": "code",
   "execution_count": 18,
   "id": "d6c8c50d",
   "metadata": {
    "execution": {
     "iopub.execute_input": "2022-09-16T16:46:44.487714Z",
     "iopub.status.busy": "2022-09-16T16:46:44.487295Z",
     "iopub.status.idle": "2022-09-16T16:46:44.503098Z",
     "shell.execute_reply": "2022-09-16T16:46:44.501761Z"
    },
    "papermill": {
     "duration": 0.0278,
     "end_time": "2022-09-16T16:46:44.505539",
     "exception": false,
     "start_time": "2022-09-16T16:46:44.477739",
     "status": "completed"
    },
    "tags": []
   },
   "outputs": [
    {
     "data": {
      "text/plain": [
       "0.6325"
      ]
     },
     "execution_count": 18,
     "metadata": {},
     "output_type": "execute_result"
    }
   ],
   "source": [
    "knn1.score(x_test, y_test)"
   ]
  },
  {
   "cell_type": "markdown",
   "id": "7a952c71",
   "metadata": {
    "papermill": {
     "duration": 0.008172,
     "end_time": "2022-09-16T16:46:44.522137",
     "exception": false,
     "start_time": "2022-09-16T16:46:44.513965",
     "status": "completed"
    },
    "tags": []
   },
   "source": [
    "# SVC"
   ]
  },
  {
   "cell_type": "code",
   "execution_count": 19,
   "id": "40e44e48",
   "metadata": {
    "execution": {
     "iopub.execute_input": "2022-09-16T16:46:44.541310Z",
     "iopub.status.busy": "2022-09-16T16:46:44.540387Z",
     "iopub.status.idle": "2022-09-16T16:46:44.560714Z",
     "shell.execute_reply": "2022-09-16T16:46:44.559605Z"
    },
    "papermill": {
     "duration": 0.032529,
     "end_time": "2022-09-16T16:46:44.563045",
     "exception": false,
     "start_time": "2022-09-16T16:46:44.530516",
     "status": "completed"
    },
    "tags": []
   },
   "outputs": [
    {
     "data": {
      "text/html": [
       "<div>\n",
       "<style scoped>\n",
       "    .dataframe tbody tr th:only-of-type {\n",
       "        vertical-align: middle;\n",
       "    }\n",
       "\n",
       "    .dataframe tbody tr th {\n",
       "        vertical-align: top;\n",
       "    }\n",
       "\n",
       "    .dataframe thead th {\n",
       "        text-align: right;\n",
       "    }\n",
       "</style>\n",
       "<table border=\"1\" class=\"dataframe\">\n",
       "  <thead>\n",
       "    <tr style=\"text-align: right;\">\n",
       "      <th></th>\n",
       "      <th>fixed acidity</th>\n",
       "      <th>volatile acidity</th>\n",
       "      <th>citric acid</th>\n",
       "      <th>residual sugar</th>\n",
       "      <th>chlorides</th>\n",
       "      <th>free sulfur dioxide</th>\n",
       "      <th>total sulfur dioxide</th>\n",
       "      <th>density</th>\n",
       "      <th>pH</th>\n",
       "      <th>sulphates</th>\n",
       "      <th>alcohol</th>\n",
       "      <th>quality</th>\n",
       "    </tr>\n",
       "  </thead>\n",
       "  <tbody>\n",
       "    <tr>\n",
       "      <th>0</th>\n",
       "      <td>7.4</td>\n",
       "      <td>0.70</td>\n",
       "      <td>0.00</td>\n",
       "      <td>1.9</td>\n",
       "      <td>0.076</td>\n",
       "      <td>11.0</td>\n",
       "      <td>34.0</td>\n",
       "      <td>0.9978</td>\n",
       "      <td>3.51</td>\n",
       "      <td>0.56</td>\n",
       "      <td>9.4</td>\n",
       "      <td>5</td>\n",
       "    </tr>\n",
       "    <tr>\n",
       "      <th>1</th>\n",
       "      <td>7.8</td>\n",
       "      <td>0.88</td>\n",
       "      <td>0.00</td>\n",
       "      <td>2.6</td>\n",
       "      <td>0.098</td>\n",
       "      <td>25.0</td>\n",
       "      <td>67.0</td>\n",
       "      <td>0.9968</td>\n",
       "      <td>3.20</td>\n",
       "      <td>0.68</td>\n",
       "      <td>9.8</td>\n",
       "      <td>5</td>\n",
       "    </tr>\n",
       "    <tr>\n",
       "      <th>2</th>\n",
       "      <td>7.8</td>\n",
       "      <td>0.76</td>\n",
       "      <td>0.04</td>\n",
       "      <td>2.3</td>\n",
       "      <td>0.092</td>\n",
       "      <td>15.0</td>\n",
       "      <td>54.0</td>\n",
       "      <td>0.9970</td>\n",
       "      <td>3.26</td>\n",
       "      <td>0.65</td>\n",
       "      <td>9.8</td>\n",
       "      <td>5</td>\n",
       "    </tr>\n",
       "    <tr>\n",
       "      <th>3</th>\n",
       "      <td>11.2</td>\n",
       "      <td>0.28</td>\n",
       "      <td>0.56</td>\n",
       "      <td>1.9</td>\n",
       "      <td>0.075</td>\n",
       "      <td>17.0</td>\n",
       "      <td>60.0</td>\n",
       "      <td>0.9980</td>\n",
       "      <td>3.16</td>\n",
       "      <td>0.58</td>\n",
       "      <td>9.8</td>\n",
       "      <td>6</td>\n",
       "    </tr>\n",
       "    <tr>\n",
       "      <th>4</th>\n",
       "      <td>7.4</td>\n",
       "      <td>0.70</td>\n",
       "      <td>0.00</td>\n",
       "      <td>1.9</td>\n",
       "      <td>0.076</td>\n",
       "      <td>11.0</td>\n",
       "      <td>34.0</td>\n",
       "      <td>0.9978</td>\n",
       "      <td>3.51</td>\n",
       "      <td>0.56</td>\n",
       "      <td>9.4</td>\n",
       "      <td>5</td>\n",
       "    </tr>\n",
       "  </tbody>\n",
       "</table>\n",
       "</div>"
      ],
      "text/plain": [
       "   fixed acidity  volatile acidity  citric acid  residual sugar  chlorides  \\\n",
       "0            7.4              0.70         0.00             1.9      0.076   \n",
       "1            7.8              0.88         0.00             2.6      0.098   \n",
       "2            7.8              0.76         0.04             2.3      0.092   \n",
       "3           11.2              0.28         0.56             1.9      0.075   \n",
       "4            7.4              0.70         0.00             1.9      0.076   \n",
       "\n",
       "   free sulfur dioxide  total sulfur dioxide  density    pH  sulphates  \\\n",
       "0                 11.0                  34.0   0.9978  3.51       0.56   \n",
       "1                 25.0                  67.0   0.9968  3.20       0.68   \n",
       "2                 15.0                  54.0   0.9970  3.26       0.65   \n",
       "3                 17.0                  60.0   0.9980  3.16       0.58   \n",
       "4                 11.0                  34.0   0.9978  3.51       0.56   \n",
       "\n",
       "   alcohol  quality  \n",
       "0      9.4        5  \n",
       "1      9.8        5  \n",
       "2      9.8        5  \n",
       "3      9.8        6  \n",
       "4      9.4        5  "
      ]
     },
     "execution_count": 19,
     "metadata": {},
     "output_type": "execute_result"
    }
   ],
   "source": [
    "df.head()"
   ]
  },
  {
   "cell_type": "code",
   "execution_count": 20,
   "id": "767baba9",
   "metadata": {
    "execution": {
     "iopub.execute_input": "2022-09-16T16:46:44.581671Z",
     "iopub.status.busy": "2022-09-16T16:46:44.581267Z",
     "iopub.status.idle": "2022-09-16T16:46:44.585955Z",
     "shell.execute_reply": "2022-09-16T16:46:44.584816Z"
    },
    "papermill": {
     "duration": 0.016674,
     "end_time": "2022-09-16T16:46:44.588195",
     "exception": false,
     "start_time": "2022-09-16T16:46:44.571521",
     "status": "completed"
    },
    "tags": []
   },
   "outputs": [],
   "source": [
    "from sklearn.svm import SVC"
   ]
  },
  {
   "cell_type": "code",
   "execution_count": 21,
   "id": "7eec7247",
   "metadata": {
    "execution": {
     "iopub.execute_input": "2022-09-16T16:46:44.606556Z",
     "iopub.status.busy": "2022-09-16T16:46:44.606162Z",
     "iopub.status.idle": "2022-09-16T16:46:44.714535Z",
     "shell.execute_reply": "2022-09-16T16:46:44.713382Z"
    },
    "papermill": {
     "duration": 0.120416,
     "end_time": "2022-09-16T16:46:44.717002",
     "exception": false,
     "start_time": "2022-09-16T16:46:44.596586",
     "status": "completed"
    },
    "tags": []
   },
   "outputs": [
    {
     "data": {
      "text/plain": [
       "SVC()"
      ]
     },
     "execution_count": 21,
     "metadata": {},
     "output_type": "execute_result"
    }
   ],
   "source": [
    "svc = SVC()\n",
    "svc.fit(x_train, y_train)"
   ]
  },
  {
   "cell_type": "code",
   "execution_count": 22,
   "id": "261421a9",
   "metadata": {
    "execution": {
     "iopub.execute_input": "2022-09-16T16:46:44.736779Z",
     "iopub.status.busy": "2022-09-16T16:46:44.735799Z",
     "iopub.status.idle": "2022-09-16T16:46:44.774142Z",
     "shell.execute_reply": "2022-09-16T16:46:44.773060Z"
    },
    "papermill": {
     "duration": 0.050807,
     "end_time": "2022-09-16T16:46:44.776557",
     "exception": false,
     "start_time": "2022-09-16T16:46:44.725750",
     "status": "completed"
    },
    "tags": []
   },
   "outputs": [
    {
     "data": {
      "text/plain": [
       "0.5"
      ]
     },
     "execution_count": 22,
     "metadata": {},
     "output_type": "execute_result"
    }
   ],
   "source": [
    "svc.score(x_test, y_test)"
   ]
  },
  {
   "cell_type": "code",
   "execution_count": 23,
   "id": "b00d9915",
   "metadata": {
    "execution": {
     "iopub.execute_input": "2022-09-16T16:46:44.795969Z",
     "iopub.status.busy": "2022-09-16T16:46:44.795542Z",
     "iopub.status.idle": "2022-09-16T16:46:44.801038Z",
     "shell.execute_reply": "2022-09-16T16:46:44.799839Z"
    },
    "papermill": {
     "duration": 0.017965,
     "end_time": "2022-09-16T16:46:44.803377",
     "exception": false,
     "start_time": "2022-09-16T16:46:44.785412",
     "status": "completed"
    },
    "tags": []
   },
   "outputs": [],
   "source": [
    "param = {'kernel':['linear', 'poly', 'rbf', 'sigmoid']}\n"
   ]
  },
  {
   "cell_type": "code",
   "execution_count": 24,
   "id": "5b2b3cc4",
   "metadata": {
    "execution": {
     "iopub.execute_input": "2022-09-16T16:46:44.822796Z",
     "iopub.status.busy": "2022-09-16T16:46:44.822077Z",
     "iopub.status.idle": "2022-09-16T16:47:40.957900Z",
     "shell.execute_reply": "2022-09-16T16:47:40.956871Z"
    },
    "papermill": {
     "duration": 56.149,
     "end_time": "2022-09-16T16:47:40.961118",
     "exception": false,
     "start_time": "2022-09-16T16:46:44.812118",
     "status": "completed"
    },
    "tags": []
   },
   "outputs": [
    {
     "name": "stdout",
     "output_type": "stream",
     "text": [
      "Fitting 5 folds for each of 4 candidates, totalling 20 fits\n",
      "[CV 1/5] END .....................kernel=linear;, score=0.583 total time=   8.4s\n",
      "[CV 2/5] END .....................kernel=linear;, score=0.533 total time=   6.8s\n",
      "[CV 3/5] END .....................kernel=linear;, score=0.571 total time=  10.8s\n",
      "[CV 4/5] END .....................kernel=linear;, score=0.592 total time=   8.9s\n",
      "[CV 5/5] END .....................kernel=linear;, score=0.556 total time=   7.3s\n",
      "[CV 1/5] END .......................kernel=poly;, score=0.500 total time=   0.1s\n",
      "[CV 2/5] END .......................kernel=poly;, score=0.487 total time=   0.2s\n",
      "[CV 3/5] END .......................kernel=poly;, score=0.475 total time=   0.2s\n",
      "[CV 4/5] END .......................kernel=poly;, score=0.475 total time=   0.1s\n",
      "[CV 5/5] END .......................kernel=poly;, score=0.515 total time=   0.1s\n",
      "[CV 1/5] END ........................kernel=rbf;, score=0.512 total time=   0.1s\n",
      "[CV 2/5] END ........................kernel=rbf;, score=0.529 total time=   0.1s\n",
      "[CV 3/5] END ........................kernel=rbf;, score=0.504 total time=   0.1s\n",
      "[CV 4/5] END ........................kernel=rbf;, score=0.463 total time=   0.1s\n",
      "[CV 5/5] END ........................kernel=rbf;, score=0.477 total time=   0.1s\n",
      "[CV 1/5] END ....................kernel=sigmoid;, score=0.483 total time=   0.1s\n",
      "[CV 2/5] END ....................kernel=sigmoid;, score=0.438 total time=   0.1s\n",
      "[CV 3/5] END ....................kernel=sigmoid;, score=0.429 total time=   0.1s\n",
      "[CV 4/5] END ....................kernel=sigmoid;, score=0.454 total time=   0.1s\n",
      "[CV 5/5] END ....................kernel=sigmoid;, score=0.335 total time=   0.1s\n"
     ]
    },
    {
     "data": {
      "text/plain": [
       "GridSearchCV(estimator=SVC(),\n",
       "             param_grid={'kernel': ['linear', 'poly', 'rbf', 'sigmoid']},\n",
       "             verbose=3)"
      ]
     },
     "execution_count": 24,
     "metadata": {},
     "output_type": "execute_result"
    }
   ],
   "source": [
    "svm_grid = GridSearchCV(svc, param_grid=param, verbose=3)\n",
    "svm_grid.fit(x_train, y_train)"
   ]
  },
  {
   "cell_type": "code",
   "execution_count": 25,
   "id": "b47ec39e",
   "metadata": {
    "execution": {
     "iopub.execute_input": "2022-09-16T16:47:40.982907Z",
     "iopub.status.busy": "2022-09-16T16:47:40.982506Z",
     "iopub.status.idle": "2022-09-16T16:47:40.988740Z",
     "shell.execute_reply": "2022-09-16T16:47:40.987600Z"
    },
    "papermill": {
     "duration": 0.019816,
     "end_time": "2022-09-16T16:47:40.990980",
     "exception": false,
     "start_time": "2022-09-16T16:47:40.971164",
     "status": "completed"
    },
    "tags": []
   },
   "outputs": [
    {
     "data": {
      "text/plain": [
       "{'kernel': 'linear'}"
      ]
     },
     "execution_count": 25,
     "metadata": {},
     "output_type": "execute_result"
    }
   ],
   "source": [
    "svm_grid.best_params_"
   ]
  },
  {
   "cell_type": "code",
   "execution_count": 26,
   "id": "d8e86418",
   "metadata": {
    "execution": {
     "iopub.execute_input": "2022-09-16T16:47:41.013201Z",
     "iopub.status.busy": "2022-09-16T16:47:41.012167Z",
     "iopub.status.idle": "2022-09-16T16:47:53.346565Z",
     "shell.execute_reply": "2022-09-16T16:47:53.345419Z"
    },
    "papermill": {
     "duration": 12.348012,
     "end_time": "2022-09-16T16:47:53.349207",
     "exception": false,
     "start_time": "2022-09-16T16:47:41.001195",
     "status": "completed"
    },
    "tags": []
   },
   "outputs": [
    {
     "data": {
      "text/plain": [
       "SVC(kernel='linear')"
      ]
     },
     "execution_count": 26,
     "metadata": {},
     "output_type": "execute_result"
    }
   ],
   "source": [
    "svc1 = SVC(kernel='linear')\n",
    "svc1.fit(x_train, y_train)"
   ]
  },
  {
   "cell_type": "code",
   "execution_count": 27,
   "id": "468bd778",
   "metadata": {
    "execution": {
     "iopub.execute_input": "2022-09-16T16:47:53.369953Z",
     "iopub.status.busy": "2022-09-16T16:47:53.369541Z",
     "iopub.status.idle": "2022-09-16T16:47:53.392591Z",
     "shell.execute_reply": "2022-09-16T16:47:53.391599Z"
    },
    "papermill": {
     "duration": 0.036373,
     "end_time": "2022-09-16T16:47:53.395222",
     "exception": false,
     "start_time": "2022-09-16T16:47:53.358849",
     "status": "completed"
    },
    "tags": []
   },
   "outputs": [
    {
     "data": {
      "text/plain": [
       "0.5925"
      ]
     },
     "execution_count": 27,
     "metadata": {},
     "output_type": "execute_result"
    }
   ],
   "source": [
    "svc1.score(x_test, y_test)"
   ]
  },
  {
   "cell_type": "code",
   "execution_count": null,
   "id": "7c88b6c4",
   "metadata": {
    "papermill": {
     "duration": 0.009291,
     "end_time": "2022-09-16T16:47:53.414398",
     "exception": false,
     "start_time": "2022-09-16T16:47:53.405107",
     "status": "completed"
    },
    "tags": []
   },
   "outputs": [],
   "source": []
  }
 ],
 "metadata": {
  "kernelspec": {
   "display_name": "Python 3",
   "language": "python",
   "name": "python3"
  },
  "language_info": {
   "codemirror_mode": {
    "name": "ipython",
    "version": 3
   },
   "file_extension": ".py",
   "mimetype": "text/x-python",
   "name": "python",
   "nbconvert_exporter": "python",
   "pygments_lexer": "ipython3",
   "version": "3.7.12"
  },
  "papermill": {
   "default_parameters": {},
   "duration": 159.27437,
   "end_time": "2022-09-16T16:47:54.346210",
   "environment_variables": {},
   "exception": null,
   "input_path": "__notebook__.ipynb",
   "output_path": "__notebook__.ipynb",
   "parameters": {},
   "start_time": "2022-09-16T16:45:15.071840",
   "version": "2.3.4"
  }
 },
 "nbformat": 4,
 "nbformat_minor": 5
}
